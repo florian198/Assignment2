{
 "cells": [
  {
   "cell_type": "markdown",
   "id": "34a46338-aab2-470b-af9a-bf48301e115d",
   "metadata": {},
   "source": [
    "<h1> My Jupyter Notebook on IBM Watson Studio</h1>"
   ]
  },
  {
   "cell_type": "markdown",
   "id": "ec77e450-3d69-42af-afbe-3fb1f529c222",
   "metadata": {
    "tags": []
   },
   "source": [
    "<b>Florian</b>\n",
    "<p>Student</p>\n"
   ]
  },
  {
   "cell_type": "markdown",
   "id": "77d4cdc4-4443-4a89-9992-09c43895bdaf",
   "metadata": {},
   "source": [
    "<i>I am interested in data science because I would like work with big data in the healthcare sector</i>"
   ]
  },
  {
   "cell_type": "markdown",
   "id": "2a4fa302-ad95-4cdc-9165-1c4779094a5e",
   "metadata": {},
   "source": [
    "<h3>The code below will run a primitive recursive algorithm to calculate the n-th Fibonacci number</h3>"
   ]
  },
  {
   "cell_type": "code",
   "execution_count": 10,
   "id": "0d7ef561-1909-4342-a119-a5abdc2ad97d",
   "metadata": {},
   "outputs": [
    {
     "data": {
      "text/plain": [
       "5"
      ]
     },
     "execution_count": 10,
     "metadata": {},
     "output_type": "execute_result"
    }
   ],
   "source": [
    "def fibonacci(n):\n",
    "    if n <= 2: \n",
    "        return 1\n",
    "    else: \n",
    "        return fibonacci(n-1) + fibonacci(n-2)\n",
    "    \n",
    "fibonacci(5)"
   ]
  },
  {
   "cell_type": "markdown",
   "id": "7f55b2f0-02a6-4bd8-a074-626a671bc0fa",
   "metadata": {},
   "source": [
    "<table>\n",
    "            <tr>\n",
    "                <th>german</th>\n",
    "                <th>english</th>\n",
    "                <th>italian</th>\n",
    "            </tr>\n",
    "            <th>ja</th>\n",
    "            <td>yes</td>\n",
    "            <td>si</td>\n",
    "            <tr>\n",
    "                <th>nein</th>\n",
    "                <td>no</td>\n",
    "                <td>no</td>\n",
    "            </tr>\n",
    "</table>\n",
    "        \n",
    "<ol>\n",
    "            <li>Data</li>\n",
    "            <li>Science</li>\n",
    "            <li>Ordered List</li>\n",
    "</ol>\n",
    "\n",
    " <ul>\n",
    "            <li>Data</li>\n",
    "            <li>Science</li>\n",
    "            <li>Unordered List</li>\n",
    " </ul>"
   ]
  },
  {
   "cell_type": "code",
   "execution_count": null,
   "id": "894c8a9c-f1c9-4ad2-b137-bee552a73b9f",
   "metadata": {},
   "outputs": [],
   "source": []
  }
 ],
 "metadata": {
  "kernelspec": {
   "display_name": "Python 3 (ipykernel)",
   "language": "python",
   "name": "python3"
  },
  "language_info": {
   "codemirror_mode": {
    "name": "ipython",
    "version": 3
   },
   "file_extension": ".py",
   "mimetype": "text/x-python",
   "name": "python",
   "nbconvert_exporter": "python",
   "pygments_lexer": "ipython3",
   "version": "3.9.12"
  }
 },
 "nbformat": 4,
 "nbformat_minor": 5
}
